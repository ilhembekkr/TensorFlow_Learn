{
 "cells": [
  {
   "cell_type": "markdown",
   "metadata": {},
   "source": [
    "### Linear regression:"
   ]
  },
  {
   "cell_type": "code",
   "execution_count": 20,
   "metadata": {
    "ExecuteTime": {
     "end_time": "2021-08-27T22:56:35.445573Z",
     "start_time": "2021-08-27T22:56:35.437599Z"
    }
   },
   "outputs": [],
   "source": [
    "import warnings \n",
    "\n",
    "warnings.filterwarnings(\"ignore\")\n",
    "import numpy as np\n",
    "import tensorflow as tf\n"
   ]
  },
  {
   "cell_type": "markdown",
   "metadata": {},
   "source": [
    " Data:"
   ]
  },
  {
   "cell_type": "code",
   "execution_count": 21,
   "metadata": {
    "ExecuteTime": {
     "end_time": "2021-08-27T22:56:38.753767Z",
     "start_time": "2021-08-27T22:56:38.741776Z"
    }
   },
   "outputs": [],
   "source": [
    "# Training data.\n",
    "# hours of study (X) vs test score (y). \n",
    "study = np.array([ 3, 4.5, 6, 1.2, 2, 6.9, 6.7, 5.5])          # Explanatory variable: X\n",
    "score = np.array([ 88, 85, 90, 80, 81, 92, 95, 90])            # Response variable: y"
   ]
  },
  {
   "cell_type": "markdown",
   "metadata": {},
   "source": [
    "## Define Variables and Placeholders: \n",
    "define the linear regression weights `a` and `b` , use tf.Variable"
   ]
  },
  {
   "cell_type": "code",
   "execution_count": 22,
   "metadata": {
    "ExecuteTime": {
     "end_time": "2021-08-27T22:56:42.052804Z",
     "start_time": "2021-08-27T22:56:42.037813Z"
    }
   },
   "outputs": [],
   "source": [
    "b1 = tf.Variable(1.0)                # A constant initial value.\n",
    "b0 = tf.Variable(1.0)                # A constant initial value."
   ]
  },
  {
   "cell_type": "markdown",
   "metadata": {},
   "source": [
    "define the input `x` and  labels `y` placeholders, use tf.placeholder"
   ]
  },
  {
   "cell_type": "code",
   "execution_count": null,
   "metadata": {},
   "outputs": [],
   "source": [
    "X_ph = _______\n",
    "y_ph= _________"
   ]
  },
  {
   "cell_type": "code",
   "execution_count": 23,
   "metadata": {
    "ExecuteTime": {
     "end_time": "2021-08-27T22:56:46.072005Z",
     "start_time": "2021-08-27T22:56:46.062011Z"
    }
   },
   "outputs": [],
   "source": [
    "X_ph = tf.placeholder(tf.float32, shape=(None))                # We don't need to fix the number of observations.\n",
    "y_ph = tf.placeholder(tf.float32, shape=(None))                # We can just leave the size = None."
   ]
  },
  {
   "cell_type": "markdown",
   "metadata": {},
   "source": [
    "####  Define the model:\n",
    "\n",
    "define your model using `a` `b` and `x` , remember : $y\\_model = a*x+b$ "
   ]
  },
  {
   "cell_type": "code",
   "execution_count": 24,
   "metadata": {
    "ExecuteTime": {
     "end_time": "2021-08-27T22:56:52.699217Z",
     "start_time": "2021-08-27T22:56:52.679228Z"
    }
   },
   "outputs": [],
   "source": [
    "y_model = b0 + b1*X_ph                                         # Simple linear regression model. "
   ]
  },
  {
   "cell_type": "markdown",
   "metadata": {},
   "source": [
    "## Define the loss function and the optimization method:\n",
    "\n",
    "\n",
    "\n"
   ]
  },
  {
   "cell_type": "code",
   "execution_count": 25,
   "metadata": {
    "ExecuteTime": {
     "end_time": "2021-08-27T22:56:55.942927Z",
     "start_time": "2021-08-27T22:56:55.926938Z"
    }
   },
   "outputs": [],
   "source": [
    "loss = tf.reduce_mean(tf.square(y_ph - y_model))          # L2 loss."
   ]
  },
  {
   "cell_type": "code",
   "execution_count": 26,
   "metadata": {
    "ExecuteTime": {
     "end_time": "2021-08-27T22:57:00.719200Z",
     "start_time": "2021-08-27T22:57:00.701214Z"
    }
   },
   "outputs": [],
   "source": [
    "optimizer = tf.train.GradientDescentOptimizer(learning_rate=0.001)\n",
    "# optimizer = tf.train.MomentumOptimizer(learning_rate = 0.001, momentum=0.9)   # Momentum optimizer."
   ]
  },
  {
   "cell_type": "code",
   "execution_count": null,
   "metadata": {},
   "outputs": [],
   "source": []
  },
  {
   "cell_type": "code",
   "execution_count": null,
   "metadata": {},
   "outputs": [],
   "source": []
  },
  {
   "cell_type": "markdown",
   "metadata": {},
   "source": [
    "##  Training and Testing:\n",
    "\n",
    "**define training** : use optimizer object to minimize the loss using `minimise()` function ,the latter takes as a parameter the loss function, then store it in `train`.\n",
    "\n",
    "- initialize variables using tf.global_variable_initializer()\n",
    "- run the forward and backprobagation using sess.run on train , don't forget to feed input data using ``feed_dict`` parameter"
   ]
  },
  {
   "cell_type": "code",
   "execution_count": null,
   "metadata": {},
   "outputs": [],
   "source": [
    "n_epochs = 5000                                                   # N# of epochs (gradient descent steps).\n",
    "train = _______                 # Define training.\n",
    "init = ________                # Define Variable initialization.\n",
    "\n",
    "with tf.Session() as sess:\n",
    "        # Variables initialization.\n",
    "        #************** write your code here****************####\n",
    "        # Training.\n",
    "        my_feed = {X_ph:study, y_ph:score}                        # Prepare feed data as a dictionary. \n",
    "        \n",
    "        for i in range(n_epochs):\n",
    "           #run training \n",
    "           #************** your code here *****************#\n",
    "        \n",
    "        \n",
    "        \n",
    "        b_model, a_model = sess.run([b0, b1])                   # Get the final values of the Variables.\n",
    "        # Testing.\n",
    "        \n",
    "        mse_value = sess.run(loss, feed_dict = my_feed)            # Calculate the in-sample MSE."
   ]
  },
  {
   "cell_type": "code",
   "execution_count": 27,
   "metadata": {
    "ExecuteTime": {
     "end_time": "2021-08-27T22:57:26.292742Z",
     "start_time": "2021-08-27T22:57:24.246292Z"
    }
   },
   "outputs": [],
   "source": [
    "n_epochs = 5000                                                   # N# of epochs (gradient descent steps).\n",
    "train = optimizer.minimize(loss)                         # Define training.\n",
    "init = tf.global_variables_initializer()                 # Define Variable initialization.\n",
    "\n",
    "with tf.Session() as sess:\n",
    "        # Variables initialization.\n",
    "        sess.run(init)\n",
    "        # Training.\n",
    "        my_feed = {X_ph:study, y_ph:score}                        # Prepare feed data as a dictionary. \n",
    "        for i in range(n_epochs):\n",
    "            sess.run(train, feed_dict = my_feed)\n",
    "        b0_model, b1_model = sess.run([b0, b1])                   # Get the final values of the Variables.\n",
    "        # Testing.\n",
    "        \n",
    "        mse_value = sess.run(loss, feed_dict = my_feed)            # Calculate the in-sample MSE."
   ]
  },
  {
   "cell_type": "markdown",
   "metadata": {},
   "source": [
    "## Display the result : \n",
    "the following are the expected results"
   ]
  },
  {
   "cell_type": "code",
   "execution_count": 28,
   "metadata": {
    "ExecuteTime": {
     "end_time": "2021-08-27T22:57:29.492748Z",
     "start_time": "2021-08-27T22:57:29.478735Z"
    }
   },
   "outputs": [
    {
     "name": "stdout",
     "output_type": "stream",
     "text": [
      "Parameters b0 = 63.651 , b1 = 4.837\n"
     ]
    }
   ],
   "source": [
    "print(\"Parameters b0 = {:5.3f} , b1 = {:5.3f}\".format(b0_model, b1_model))"
   ]
  },
  {
   "cell_type": "code",
   "execution_count": 29,
   "metadata": {
    "ExecuteTime": {
     "end_time": "2021-08-27T22:57:34.279810Z",
     "start_time": "2021-08-27T22:57:34.261821Z"
    }
   },
   "outputs": [
    {
     "name": "stdout",
     "output_type": "stream",
     "text": [
      "MSE  = 37.583\n",
      "RMSE = 6.130\n"
     ]
    }
   ],
   "source": [
    "print(\"MSE  = {:5.3f}\".format(mse_value))\n",
    "print(\"RMSE = {:5.3f}\".format(np.sqrt(mse_value)))"
   ]
  },
  {
   "cell_type": "markdown",
   "metadata": {},
   "source": [
    "#### 1.7. Prediction:"
   ]
  },
  {
   "cell_type": "code",
   "execution_count": 30,
   "metadata": {
    "ExecuteTime": {
     "end_time": "2021-08-27T22:57:45.451708Z",
     "start_time": "2021-08-27T22:57:45.445711Z"
    }
   },
   "outputs": [],
   "source": [
    "# Define the testing data.\n",
    "study_new = np.array([2.5, 3.3, 4.2]).reshape(-1,1)"
   ]
  },
  {
   "cell_type": "markdown",
   "metadata": {},
   "source": [
    "- define prediction's placeholder in x_th \n",
    "- define y_model using the parameters after training\n",
    "- define my_feed dictionary using study_new \n",
    "- run the prediction using y_model and tf.Session and store the result in y_pred_value "
   ]
  },
  {
   "cell_type": "code",
   "execution_count": null,
   "metadata": {},
   "outputs": [],
   "source": [
    "X_th = ________\n",
    "y_model = ________"
   ]
  },
  {
   "cell_type": "code",
   "execution_count": 31,
   "metadata": {
    "ExecuteTime": {
     "end_time": "2021-08-27T22:57:52.121624Z",
     "start_time": "2021-08-27T22:57:52.110613Z"
    }
   },
   "outputs": [],
   "source": [
    "X_ph = tf.placeholder(tf.float32, shape=(study_new.size,1))\n",
    "y_model = b0_model + b1_model*X_ph                                # Define the prediction model."
   ]
  },
  {
   "cell_type": "code",
   "execution_count": null,
   "metadata": {},
   "outputs": [],
   "source": [
    "with tf.Session() as sess:\n",
    "        my_feed = ________\n",
    "        y_pred_value = ___________           "
   ]
  },
  {
   "cell_type": "code",
   "execution_count": 32,
   "metadata": {
    "ExecuteTime": {
     "end_time": "2021-08-27T22:57:54.644462Z",
     "start_time": "2021-08-27T22:57:54.613481Z"
    }
   },
   "outputs": [],
   "source": [
    "with tf.Session() as sess:\n",
    "        my_feed = {X_ph:study_new}\n",
    "        y_pred_value = sess.run(y_model, feed_dict = my_feed)           "
   ]
  },
  {
   "cell_type": "markdown",
   "metadata": {},
   "source": [
    "the following are the expected result"
   ]
  },
  {
   "cell_type": "code",
   "execution_count": 33,
   "metadata": {
    "ExecuteTime": {
     "end_time": "2021-08-27T22:57:55.554675Z",
     "start_time": "2021-08-27T22:57:55.541662Z"
    }
   },
   "outputs": [
    {
     "name": "stdout",
     "output_type": "stream",
     "text": [
      "[[75.742004]\n",
      " [79.611244]\n",
      " [83.96414 ]]\n"
     ]
    }
   ],
   "source": [
    "# Predicted y values.\n",
    "print(y_pred_value)"
   ]
  },
  {
   "cell_type": "code",
   "execution_count": null,
   "metadata": {},
   "outputs": [],
   "source": []
  }
 ],
 "metadata": {
  "kernelspec": {
   "display_name": "Python 3",
   "language": "python",
   "name": "python3"
  },
  "language_info": {
   "codemirror_mode": {
    "name": "ipython",
    "version": 3
   },
   "file_extension": ".py",
   "mimetype": "text/x-python",
   "name": "python",
   "nbconvert_exporter": "python",
   "pygments_lexer": "ipython3",
   "version": "3.7.0"
  },
  "toc": {
   "base_numbering": 1,
   "nav_menu": {},
   "number_sections": true,
   "sideBar": true,
   "skip_h1_title": false,
   "title_cell": "Table of Contents",
   "title_sidebar": "Contents",
   "toc_cell": false,
   "toc_position": {},
   "toc_section_display": true,
   "toc_window_display": false
  },
  "varInspector": {
   "cols": {
    "lenName": 16,
    "lenType": 16,
    "lenVar": 40
   },
   "kernels_config": {
    "python": {
     "delete_cmd_postfix": "",
     "delete_cmd_prefix": "del ",
     "library": "var_list.py",
     "varRefreshCmd": "print(var_dic_list())"
    },
    "r": {
     "delete_cmd_postfix": ") ",
     "delete_cmd_prefix": "rm(",
     "library": "var_list.r",
     "varRefreshCmd": "cat(var_dic_list()) "
    }
   },
   "types_to_exclude": [
    "module",
    "function",
    "builtin_function_or_method",
    "instance",
    "_Feature"
   ],
   "window_display": false
  }
 },
 "nbformat": 4,
 "nbformat_minor": 2
}
