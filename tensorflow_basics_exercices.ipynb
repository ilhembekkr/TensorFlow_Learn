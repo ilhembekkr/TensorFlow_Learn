{
 "cells": [
  {
   "cell_type": "markdown",
   "metadata": {},
   "source": [
    "# TensorFlow basics:"
   ]
  },
  {
   "cell_type": "code",
   "execution_count": 22,
   "metadata": {},
   "outputs": [],
   "source": [
    "# Install once.\n",
    "#!pip install tensorflow-gpu==1.13.1\n",
    "# OR\n",
    "# !pip install --user tensorflow-gpu"
   ]
  },
  {
   "cell_type": "code",
   "execution_count": 29,
   "metadata": {
    "ExecuteTime": {
     "end_time": "2021-08-27T12:27:44.159839Z",
     "start_time": "2021-08-27T12:27:44.145847Z"
    }
   },
   "outputs": [],
   "source": [
    "import warnings\n",
    "warnings.filterwarnings('ignore')\n",
    "import tensorflow.compat.v1 as tf\n",
    "import numpy as np\n"
   ]
  },
  {
   "cell_type": "markdown",
   "metadata": {},
   "source": [
    "## Hello World!"
   ]
  },
  {
   "cell_type": "code",
   "execution_count": 32,
   "metadata": {
    "ExecuteTime": {
     "end_time": "2021-08-27T12:28:06.997298Z",
     "start_time": "2021-08-27T12:28:05.032450Z"
    }
   },
   "outputs": [
    {
     "name": "stdout",
     "output_type": "stream",
     "text": [
      "b'Hello World!'\n"
     ]
    }
   ],
   "source": [
    "hello = tf.constant(\"Hello World!\")\n",
    "tf.disable_eager_execution()\n",
    "with tf.Session() as sess:\n",
    "    print(sess.run(hello))"
   ]
  },
  {
   "cell_type": "markdown",
   "metadata": {},
   "source": [
    "## Creating tensors:"
   ]
  },
  {
   "cell_type": "code",
   "execution_count": 33,
   "metadata": {},
   "outputs": [],
   "source": [
    "hello = tf.constant(\"Hello World!\")                         # String.\n",
    "const_scalar = tf.constant(7)                               # A scalar tensor.\n",
    "const_matrix = tf.constant([[1,2], [3,4]])                  # A matrix tensor.\n",
    "mat_fill = tf.fill((4,4),9)                                 # A 4x4 tensor filled with 9s.\n",
    "mat_zeros = tf.zeros((3,3))                                 # A 3x3 tensor filled with 0s.\n",
    "mat_ones = tf.ones((5,5))                                   # A 5x5 tensor filled with 1s.\n",
    "mat_randn = tf.random_normal((3,3), mean=0, stddev=1.0)     # 3x3 random normal tensor.\n",
    "mat_randu = tf.random_uniform((4,4), minval=0, maxval=1.0)  # 4x4 random uniform tensor."
   ]
  },
  {
   "cell_type": "code",
   "execution_count": 34,
   "metadata": {},
   "outputs": [
    {
     "name": "stdout",
     "output_type": "stream",
     "text": [
      "<class 'bytes'>\n",
      "\n",
      "\n",
      "b'Hello World!'\n",
      "\n",
      "\n",
      "<class 'numpy.int32'>\n",
      "\n",
      "\n",
      "7\n",
      "\n",
      "\n",
      "<class 'numpy.ndarray'>\n",
      "\n",
      "\n",
      "[[1 2]\n",
      " [3 4]]\n",
      "\n",
      "\n",
      "<class 'numpy.ndarray'>\n",
      "\n",
      "\n",
      "[[9 9 9 9]\n",
      " [9 9 9 9]\n",
      " [9 9 9 9]\n",
      " [9 9 9 9]]\n",
      "\n",
      "\n",
      "<class 'numpy.ndarray'>\n",
      "\n",
      "\n",
      "[[0. 0. 0.]\n",
      " [0. 0. 0.]\n",
      " [0. 0. 0.]]\n",
      "\n",
      "\n",
      "<class 'numpy.ndarray'>\n",
      "\n",
      "\n",
      "[[1. 1. 1. 1. 1.]\n",
      " [1. 1. 1. 1. 1.]\n",
      " [1. 1. 1. 1. 1.]\n",
      " [1. 1. 1. 1. 1.]\n",
      " [1. 1. 1. 1. 1.]]\n",
      "\n",
      "\n",
      "<class 'numpy.ndarray'>\n",
      "\n",
      "\n",
      "[[-1.6843772   0.4945933   1.2709894 ]\n",
      " [-0.5740204   0.43828887 -0.48445895]\n",
      " [-1.777321    1.0776471   1.253674  ]]\n",
      "\n",
      "\n",
      "<class 'numpy.ndarray'>\n",
      "\n",
      "\n",
      "[[0.42668772 0.3134569  0.71684754 0.11181629]\n",
      " [0.50303423 0.8494853  0.84914386 0.5995394 ]\n",
      " [0.6819701  0.5100572  0.27478218 0.3270527 ]\n",
      " [0.93374    0.6416371  0.27235174 0.41945064]]\n",
      "\n",
      "\n"
     ]
    }
   ],
   "source": [
    "my_ops=[hello, const_scalar, const_matrix, mat_fill, mat_zeros, mat_ones, mat_randn, mat_randu]\n",
    "with tf.Session() as sess:\n",
    "    for op in my_ops:\n",
    "        res = sess.run(op)\n",
    "        print(type(res))\n",
    "        print('\\n')\n",
    "        print(res)\n",
    "        print('\\n')"
   ]
  },
  {
   "cell_type": "markdown",
   "metadata": {},
   "source": [
    "## Math operations:"
   ]
  },
  {
   "cell_type": "markdown",
   "metadata": {},
   "source": [
    "create two scalars ``n1`` and ``n2``  using ``tf.constant`` with any value of your choice and do the following operations: \n",
    "- **multplication** using ``tf.multiply`` and ``*``\n",
    "- **addition** using ``tf.add`` and ``+``\n",
    "- **pow** using ``tf.pow``\n",
    "\n",
    "save each operation in a variable and run them using :\n",
    "\n",
    "``\n",
    "with tf.Session() as sess:\n",
    "    sess.run(...)\n",
    "    ...\n",
    "``    "
   ]
  },
  {
   "cell_type": "code",
   "execution_count": 35,
   "metadata": {
    "ExecuteTime": {
     "end_time": "2021-08-28T13:44:13.595428Z",
     "start_time": "2021-08-28T13:44:13.587441Z"
    }
   },
   "outputs": [],
   "source": [
    "n1 = tf.constant(5)\n",
    "n2 = tf.constant(2)\n",
    "n3 = tf.multiply(n1,n2)\n",
    "n4 = n1 * n2 \n",
    "n5 = tf.add(n1,n2)\n",
    "n6 = n1 = n2 \n",
    "n7 = tf.pow(n1,2)\n",
    "mylist = [n1,n2,n3,n4,n5,n6,n7]"
   ]
  },
  {
   "cell_type": "code",
   "execution_count": 36,
   "metadata": {},
   "outputs": [
    {
     "name": "stdout",
     "output_type": "stream",
     "text": [
      "<class 'numpy.int32'>\n",
      "\n",
      "\n",
      "2\n",
      "\n",
      "\n",
      "<class 'numpy.int32'>\n",
      "\n",
      "\n",
      "2\n",
      "\n",
      "\n",
      "<class 'numpy.int32'>\n",
      "\n",
      "\n",
      "10\n",
      "\n",
      "\n",
      "<class 'numpy.int32'>\n",
      "\n",
      "\n",
      "10\n",
      "\n",
      "\n",
      "<class 'numpy.int32'>\n",
      "\n",
      "\n",
      "7\n",
      "\n",
      "\n",
      "<class 'numpy.int32'>\n",
      "\n",
      "\n",
      "2\n",
      "\n",
      "\n",
      "<class 'numpy.int32'>\n",
      "\n",
      "\n",
      "4\n",
      "\n",
      "\n"
     ]
    }
   ],
   "source": [
    "with tf.Session() as sess:\n",
    "    for op in mylist:\n",
    "        res = sess.run(op)\n",
    "        print(type(res))\n",
    "        print('\\n')\n",
    "        print(res)\n",
    "        print('\\n')"
   ]
  },
  {
   "cell_type": "markdown",
   "metadata": {},
   "source": [
    "## Matrix functions and operations:"
   ]
  },
  {
   "cell_type": "markdown",
   "metadata": {},
   "source": [
    "create two variables ``tf.constant([[1,2], [3,4]])`` and ``tf.constant([[5, 6], [7, 8]])``\n",
    "then perfom ``tf.matmul`` and ``tf.multiply``.\n",
    "- run them using session.run() (just like the previous example)\n",
    "- conclude the difference between the two operations"
   ]
  },
  {
   "cell_type": "markdown",
   "metadata": {},
   "source": [
    "perform also ``+`` , ``-`` , ``/`` , use round with the last operation with 3 decimal places after comma."
   ]
  },
  {
   "cell_type": "code",
   "execution_count": 37,
   "metadata": {
    "ExecuteTime": {
     "end_time": "2021-08-28T13:46:06.058179Z",
     "start_time": "2021-08-28T13:46:06.040170Z"
    }
   },
   "outputs": [],
   "source": [
    "a = tf.constant([[1,2], [3,4]])\n",
    "b = tf.constant([[5, 6], [7, 8]])\n",
    "c = tf.matmul(a,b)\n",
    "d = tf.multiply(a,b)"
   ]
  },
  {
   "cell_type": "code",
   "execution_count": 39,
   "metadata": {},
   "outputs": [
    {
     "name": "stdout",
     "output_type": "stream",
     "text": [
      "<class 'numpy.ndarray'>\n",
      "\n",
      "\n",
      "[[1 2]\n",
      " [3 4]]\n",
      "\n",
      "\n",
      "<class 'numpy.ndarray'>\n",
      "\n",
      "\n",
      "[[5 6]\n",
      " [7 8]]\n",
      "\n",
      "\n",
      "<class 'numpy.ndarray'>\n",
      "\n",
      "\n",
      "[[19 22]\n",
      " [43 50]]\n",
      "\n",
      "\n",
      "<class 'numpy.ndarray'>\n",
      "\n",
      "\n",
      "[[ 5 12]\n",
      " [21 32]]\n",
      "\n",
      "\n"
     ]
    }
   ],
   "source": [
    "mat_list = [a,b,c,d]\n",
    "with tf.Session() as sess:\n",
    "    for op in mat_list:\n",
    "        res = sess.run(op)\n",
    "        print(type(res))\n",
    "        print('\\n')\n",
    "        print(res)\n",
    "        print('\\n')"
   ]
  },
  {
   "cell_type": "markdown",
   "metadata": {},
   "source": [
    "here are some other operations you can do using constant variables"
   ]
  },
  {
   "cell_type": "code",
   "execution_count": 40,
   "metadata": {},
   "outputs": [
    {
     "name": "stdout",
     "output_type": "stream",
     "text": [
      "[[1. 2.]\n",
      " [3. 4.]]\n",
      "\n",
      "\n",
      "[[1 0 0]\n",
      " [0 2 0]\n",
      " [0 0 3]]\n",
      "\n",
      "\n",
      "[[1. 3.]\n",
      " [2. 4.]]\n",
      "\n",
      "\n",
      "[[-2.   1. ]\n",
      " [ 1.5 -0.5]]\n",
      "\n",
      "\n",
      "[[ 1.  0.]\n",
      " [-0.  1.]]\n",
      "\n",
      "\n",
      "-2.0\n",
      "\n",
      "\n"
     ]
    }
   ],
   "source": [
    "# Matrix functions.\n",
    "m = tf.constant([[1.0,2.0],[3.0,4.0]])\n",
    "m_diagonal = tf.matrix_diag([1,2,3])\n",
    "m_transpose = tf.matrix_transpose(m)\n",
    "m_inverse = tf.matrix_inverse(m)\n",
    "m_multiplied = tf.matmul(m, m_inverse)\n",
    "m_determinant = tf.matrix_determinant(m)\n",
    "my_matrices = [m, m_diagonal, m_transpose, m_inverse, m_multiplied, m_determinant]\n",
    "with tf.Session() as sess:\n",
    "    for mat in my_matrices:\n",
    "        res = sess.run(mat)\n",
    "        print(np.round(res,3))\n",
    "        print('\\n')"
   ]
  },
  {
   "cell_type": "markdown",
   "metadata": {},
   "source": [
    "## TensorFlow Variable:"
   ]
  },
  {
   "cell_type": "markdown",
   "metadata": {},
   "source": [
    "there are threee way to initialize your variables"
   ]
  },
  {
   "cell_type": "code",
   "execution_count": 41,
   "metadata": {},
   "outputs": [
    {
     "name": "stdout",
     "output_type": "stream",
     "text": [
      "-3\n"
     ]
    }
   ],
   "source": [
    "# Initializing Variables #1\n",
    "x = tf.Variable(initial_value=5, name='x')       # Define.\n",
    "y = tf.Variable(initial_value=6, name='y')       # Define.\n",
    "f = (x - y)*y + 3                                # Define.\n",
    "sess = tf.Session()\n",
    "sess.run(x.initializer)                          # Initialize.\n",
    "sess.run(y.initializer)                          # Initialize. \n",
    "res = sess.run(f)  \n",
    "print(res)\n",
    "sess.close()"
   ]
  },
  {
   "cell_type": "code",
   "execution_count": 50,
   "metadata": {},
   "outputs": [
    {
     "name": "stdout",
     "output_type": "stream",
     "text": [
      "11\n"
     ]
    }
   ],
   "source": [
    "# Initializing Variables #2\n",
    "x = tf.Variable(initial_value=3, name='x')       # Define.\n",
    "y = tf.Variable(initial_value=2, name='y')       # Define.\n",
    "f = x*y + y + 3                                  # Define.\n",
    "with tf.Session() as sess:\n",
    "    x.initializer.run()                          # Initialize. The same as \"sess.run(x.initializer)\".\n",
    "    y.initializer.run()                          # Initialize. The same as \"sess.run(y.initializer)\".\n",
    "    res = f.eval()                               # The same as \"res = sess.run(f)\".\n",
    "print(res)"
   ]
  },
  {
   "cell_type": "markdown",
   "metadata": {},
   "source": [
    "the following initialization method is the widely used "
   ]
  },
  {
   "cell_type": "code",
   "execution_count": 43,
   "metadata": {},
   "outputs": [
    {
     "name": "stdout",
     "output_type": "stream",
     "text": [
      "59\n"
     ]
    }
   ],
   "source": [
    "# Initializing Variables #3\n",
    "x = tf.Variable(initial_value=7, name='x')       # Define.\n",
    "y = tf.Variable(initial_value=3, name='y')       # Define.\n",
    "f = x*y*y - y - 1                                # Define.\n",
    "init = tf.global_variables_initializer()         # will go through all variables and initialize them \n",
    "with tf.Session() as sess:\n",
    "    sess.run(init)                               # Initialize wil happen after running sess.run(init).\n",
    "    res = f.eval()                               # The same as \"res = sess.run(f)\".\n",
    "print(res)"
   ]
  },
  {
   "cell_type": "markdown",
   "metadata": {},
   "source": [
    "- create ``my_tensor`` using tf.random_uniform of shape ``(4,4)`` of zero mean and 1 std\n",
    "- create ``my_var`` using ``tf.Variable`` with an initial value ``my_tensor``\n",
    "- run a global initializer using ``tf.global_variables_initializer`` and store it in ``init``\n",
    "- start a session as usual and run ``init`` to initialize your variables "
   ]
  },
  {
   "cell_type": "code",
   "execution_count": 48,
   "metadata": {
    "ExecuteTime": {
     "end_time": "2021-08-28T13:46:55.936346Z",
     "start_time": "2021-08-28T13:46:55.926354Z"
    }
   },
   "outputs": [
    {
     "name": "stdout",
     "output_type": "stream",
     "text": [
      "<tf.Variable 'my_var_2:0' shape=(4, 4) dtype=float32>\n"
     ]
    }
   ],
   "source": [
    "my_tensor = tf.random_uniform((4,4))\n",
    "my_var = tf.Variable(initial_value=my_tensor , name='my_var')\n",
    "init = tf.global_variables_initializer()\n",
    "with tf.Session() as sess : \n",
    "    sess.run(init)\n",
    "print(sess.ramy_var)"
   ]
  },
  {
   "cell_type": "markdown",
   "metadata": {},
   "source": [
    "## TensorFlow Placeholder"
   ]
  },
  {
   "cell_type": "markdown",
   "metadata": {},
   "source": [
    "placeholders are different , they got initialized through run function using the ``feed_dict``.\n",
    "\n",
    "**usage :** imagine a placeholder as booking a table at a restaurant ,in our case the guests are the input , you guessed it right **placeholders are used for input data** one cool property of placeholders is that you don't need to set number of observations\n",
    "<br>\n",
    "\n",
    "here's an example :"
   ]
  },
  {
   "cell_type": "code",
   "execution_count": null,
   "metadata": {},
   "outputs": [],
   "source": [
    "a = tf.placeholder(tf.float32)\n",
    "b = tf.placeholder(tf.float32)\n",
    "y = tf.multiply(a, b)\n",
    "with tf.Session() as sess:\n",
    "    res = sess.run(y, feed_dict={a:2, b:3})           # Feed the actual valules.\n",
    "    print(res)"
   ]
  },
  {
   "cell_type": "code",
   "execution_count": null,
   "metadata": {},
   "outputs": [],
   "source": [
    "# Simulated data as NumPy array.\n",
    "np.random.seed(123)\n",
    "X1 = np.random.uniform(0.0, 1.0, (3,3))\n",
    "X2 = np.random.normal(0.0, 1.0, (10,3))\n",
    "b0 = np.array([1,2,3]).reshape((-1,1))\n",
    "#\n",
    "# The data may be a DataFrame.\n",
    "# X1 = pd.DataFrame(X1)\n",
    "# X2 = pd.DataFrame(X2)\n",
    "#\n",
    "X = tf.placeholder(tf.float32, shape=(None,3))       # \"None\" means that the number of rows is still undefined. \n",
    "b = tf.placeholder(tf.float32, shape=(3,1))\n",
    "y = tf.matmul(X, b)\n",
    "with tf.Session() as sess:\n",
    "    print(sess.run(y, feed_dict={X:X1, b:b0}))       # Feed in the data.\n",
    "    print(\"\\n\")\n",
    "    print(sess.run(y, feed_dict={X:X2, b:b0}))       # Feed in the data."
   ]
  }
 ],
 "metadata": {
  "kernelspec": {
   "display_name": "Python 3",
   "language": "python",
   "name": "python3"
  },
  "language_info": {
   "codemirror_mode": {
    "name": "ipython",
    "version": 3
   },
   "file_extension": ".py",
   "mimetype": "text/x-python",
   "name": "python",
   "nbconvert_exporter": "python",
   "pygments_lexer": "ipython3",
   "version": "3.8.8"
  },
  "toc": {
   "base_numbering": 1,
   "nav_menu": {},
   "number_sections": true,
   "sideBar": true,
   "skip_h1_title": false,
   "title_cell": "Table of Contents",
   "title_sidebar": "Contents",
   "toc_cell": false,
   "toc_position": {},
   "toc_section_display": true,
   "toc_window_display": false
  },
  "varInspector": {
   "cols": {
    "lenName": 16,
    "lenType": 16,
    "lenVar": 40
   },
   "kernels_config": {
    "python": {
     "delete_cmd_postfix": "",
     "delete_cmd_prefix": "del ",
     "library": "var_list.py",
     "varRefreshCmd": "print(var_dic_list())"
    },
    "r": {
     "delete_cmd_postfix": ") ",
     "delete_cmd_prefix": "rm(",
     "library": "var_list.r",
     "varRefreshCmd": "cat(var_dic_list()) "
    }
   },
   "types_to_exclude": [
    "module",
    "function",
    "builtin_function_or_method",
    "instance",
    "_Feature"
   ],
   "window_display": false
  }
 },
 "nbformat": 4,
 "nbformat_minor": 2
}
